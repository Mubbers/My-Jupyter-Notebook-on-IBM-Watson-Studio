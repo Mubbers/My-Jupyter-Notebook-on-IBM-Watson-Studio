{
 "cells": [
  {
   "cell_type": "markdown",
   "id": "089e638b-5bf4-4e84-8dbd-03581bd89f39",
   "metadata": {},
   "source": [
    "# My Jupyter Notebook on IBM Watson Studio"
   ]
  },
  {
   "cell_type": "markdown",
   "id": "08578ea9-b13d-4b36-aa5a-a4e55071fcec",
   "metadata": {},
   "source": [
    "**Mark Munday**\n",
    "\n",
    "Formula 1 Data Analyst"
   ]
  },
  {
   "cell_type": "markdown",
   "id": "00c5074a-ad2c-4375-bba1-22c98fac7eae",
   "metadata": {},
   "source": [
    "*I am interested in data science because it is the future of most industries across the globe. Data science is breaking new ground providing marginal gains and analytical insight in sports. It is also being used to revolutionise the our approach to business and commerce.*"
   ]
  },
  {
   "cell_type": "markdown",
   "id": "06051b0f-8afc-4708-b9fa-852dc3722aec",
   "metadata": {},
   "source": [
    "### The code in the below cell (cell 5) computes the sum one plus one and displays the output underneath."
   ]
  },
  {
   "cell_type": "code",
   "execution_count": 2,
   "id": "ffade843-d518-4e96-9760-f30288965c8c",
   "metadata": {},
   "outputs": [
    {
     "data": {
      "text/plain": [
       "2"
      ]
     },
     "execution_count": 2,
     "metadata": {},
     "output_type": "execute_result"
    }
   ],
   "source": [
    "1+1"
   ]
  },
  {
   "cell_type": "markdown",
   "id": "a2578f9e-f202-48da-ae39-2ff065829a4a",
   "metadata": {},
   "source": [
    "~~This is a strikethrough~~ <br>  \n",
    "\n",
    "Here is a blockquote below.\n",
    "\n",
    "> This is my example of a blockquote. <br>\n",
    "\n",
    "Here is a horizontal rule example...\n",
    "\n",
    "---\n",
    "\n",
    "There are hyphens above here\n",
    "\n",
    "***\n",
    "\n",
    "There are asterisks above here\n",
    "\n",
    "___\n",
    "\n",
    "There are underscores above here\n",
    "\n",
    "\n",
    "1. This is the first item in a numbered list\n",
    "2. Here is another item\n",
    "1. Actual numbers don't matter, this is numbered 1 but it prints as 3\n",
    "\n",
    "\n",
    "* Here is a bullet list. The first one is an astrick\n",
    "- The second is a minus\n",
    "+ The last is a plus\n",
    "\n",
    "[Here is a link to Google](https://www.google.com \"Google's Homepage\")\n",
    "\n",
    "Here is a the Google logo (hover to see the title text):\n",
    "\n",
    "![alt text](https://encrypted-tbn0.gstatic.com/images?q=tbn:ANd9GcQjzC2JyZDZ_RaWf0qp11K0lcvB6b6kYNMoqtZAQ9hiPZ4cTIOB \"Google Logo\")\n",
    "\n",
    "Some words in sentences can be highlighted `like this` using back-ticks."
   ]
  }
 ],
 "metadata": {
  "kernelspec": {
   "display_name": "Python",
   "language": "python",
   "name": "conda-env-python-py"
  },
  "language_info": {
   "codemirror_mode": {
    "name": "ipython",
    "version": 3
   },
   "file_extension": ".py",
   "mimetype": "text/x-python",
   "name": "python",
   "nbconvert_exporter": "python",
   "pygments_lexer": "ipython3",
   "version": "3.7.12"
  }
 },
 "nbformat": 4,
 "nbformat_minor": 5
}
